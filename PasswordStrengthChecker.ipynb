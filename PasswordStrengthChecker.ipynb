{
 "cells": [
  {
   "cell_type": "markdown",
   "metadata": {},
   "source": [
    "### Special Thanks to https://github.com/PythonAberdeen/user_group for the puzzle:\n",
    "Level 1 - Password Strength Rater\n",
    "In this puzzle we will build a password strength rater via a function containing the username and password variables and the following scoring criteria:\n",
    "\n",
    "Score given for length                     : + 1  point per character\n",
    "\n",
    "\n",
    "Contains at least 1 lower-case letter (a-z): + 2  points\n",
    "\n",
    "\n",
    "Contains at least 1 upper-case letter (A-Z): + 3  points\n",
    "\n",
    "\n",
    "Contains at least 1 digit (0-9)            : + 5  points\n",
    "\n",
    "\n",
    "Contains a space                           : + 5  points\n",
    "\n",
    "\n",
    "Contains any other character               : + 10 points\n",
    "\n",
    "\n",
    "Contains username (case-insensitive)       : - 15 points\n",
    "\n",
    "\n",
    "Minimum score                              :   0  points"
   ]
  },
  {
   "cell_type": "code",
   "execution_count": 1,
   "metadata": {},
   "outputs": [],
   "source": [
    "def rate_password(username, password):\n",
    "    upper = 0\n",
    "    lower = 0\n",
    "    num = 0\n",
    "    space = 0\n",
    "    other = 0\n",
    "    username = str(username)\n",
    "    password = str(password)\n",
    "    score = len(password)\n",
    "    for ch in password:\n",
    "        if ch.isupper(): upper=3\n",
    "        elif ch.islower(): lower=2\n",
    "        elif ch.isnumeric(): num=5\n",
    "        elif \" \" in ch: space=5 \n",
    "        else : other = 10\n",
    "    score = score+upper+lower+num+space+other\n",
    "    if username.lower() in password.lower(): score = max(score-15,0)\n",
    "    return score"
   ]
  },
  {
   "cell_type": "markdown",
   "metadata": {},
   "source": [
    "#### Test Function "
   ]
  },
  {
   "cell_type": "code",
   "execution_count": 2,
   "metadata": {},
   "outputs": [
    {
     "data": {
      "text/plain": [
       "20"
      ]
     },
     "execution_count": 2,
     "metadata": {},
     "output_type": "execute_result"
    }
   ],
   "source": [
    "rate_password('bob', 'Pass42word')"
   ]
  },
  {
   "cell_type": "code",
   "execution_count": 3,
   "metadata": {},
   "outputs": [
    {
     "data": {
      "text/plain": [
       "17"
      ]
     },
     "execution_count": 3,
     "metadata": {},
     "output_type": "execute_result"
    }
   ],
   "source": [
    "rate_password('bob', 'pass42word')"
   ]
  },
  {
   "cell_type": "code",
   "execution_count": 4,
   "metadata": {},
   "outputs": [
    {
     "data": {
      "text/plain": [
       "10"
      ]
     },
     "execution_count": 4,
     "metadata": {},
     "output_type": "execute_result"
    }
   ],
   "source": [
    "rate_password('bob', '12345')"
   ]
  },
  {
   "cell_type": "code",
   "execution_count": 5,
   "metadata": {},
   "outputs": [
    {
     "data": {
      "text/plain": [
       "19"
      ]
     },
     "execution_count": 5,
     "metadata": {},
     "output_type": "execute_result"
    }
   ],
   "source": [
    "rate_password('bob', 'おはようございます')"
   ]
  },
  {
   "cell_type": "code",
   "execution_count": 6,
   "metadata": {},
   "outputs": [
    {
     "data": {
      "text/plain": [
       "14"
      ]
     },
     "execution_count": 6,
     "metadata": {},
     "output_type": "execute_result"
    }
   ],
   "source": [
    "rate_password('bob', 'Bob cat 猫')"
   ]
  },
  {
   "cell_type": "code",
   "execution_count": 7,
   "metadata": {},
   "outputs": [
    {
     "data": {
      "text/plain": [
       "0"
      ]
     },
     "execution_count": 7,
     "metadata": {},
     "output_type": "execute_result"
    }
   ],
   "source": [
    "rate_password('bob', 'bob')"
   ]
  },
  {
   "cell_type": "code",
   "execution_count": 8,
   "metadata": {},
   "outputs": [
    {
     "data": {
      "text/plain": [
       "0"
      ]
     },
     "execution_count": 8,
     "metadata": {},
     "output_type": "execute_result"
    }
   ],
   "source": [
    "rate_password('bob', 'bobbobbobbob')"
   ]
  },
  {
   "cell_type": "code",
   "execution_count": 9,
   "metadata": {},
   "outputs": [
    {
     "data": {
      "text/plain": [
       "2"
      ]
     },
     "execution_count": 9,
     "metadata": {},
     "output_type": "execute_result"
    }
   ],
   "source": [
    "rate_password('bob', 'bobbobbobbobbob')"
   ]
  },
  {
   "cell_type": "markdown",
   "metadata": {},
   "source": [
    "#### End of Tests"
   ]
  }
 ],
 "metadata": {
  "kernelspec": {
   "display_name": "Python 3",
   "language": "python",
   "name": "python3"
  },
  "language_info": {
   "codemirror_mode": {
    "name": "ipython",
    "version": 3
   },
   "file_extension": ".py",
   "mimetype": "text/x-python",
   "name": "python",
   "nbconvert_exporter": "python",
   "pygments_lexer": "ipython3",
   "version": "3.7.1"
  }
 },
 "nbformat": 4,
 "nbformat_minor": 2
}
